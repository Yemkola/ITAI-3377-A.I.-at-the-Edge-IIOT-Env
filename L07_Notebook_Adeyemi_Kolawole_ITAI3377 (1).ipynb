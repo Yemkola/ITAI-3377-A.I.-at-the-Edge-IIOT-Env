{
  "cells": [
    {
      "cell_type": "markdown",
      "id": "03877316-f749-41a2-9674-59f1c3ccabbd",
      "metadata": {
        "id": "03877316-f749-41a2-9674-59f1c3ccabbd"
      },
      "source": [
        "# L07 IIoT Network Analysis: Age of Information and Reliability Trade-offs"
      ]
    },
    {
      "cell_type": "markdown",
      "id": "6fb162a7-7737-406f-92aa-806756f9d9b1",
      "metadata": {
        "id": "6fb162a7-7737-406f-92aa-806756f9d9b1"
      },
      "source": [
        "### 1. Conceptual Understanding"
      ]
    },
    {
      "cell_type": "markdown",
      "id": "2919854b-711b-4ef9-ae52-1cd31d76df3e",
      "metadata": {
        "id": "2919854b-711b-4ef9-ae52-1cd31d76df3e"
      },
      "source": [
        "a) In Industrial Internet of Things (IIoT) environments, the Age of Information (AoI) metric is essential for operational efficiency. AoI quantifies data recency for decision-making systems, comparable to monitoring temperature check frequency in culinary operations. A low AoI indicates systems utilizing current data, enabling prompt responses to anomalies such as equipment overheating or irregular vibrations. This immediacy proves critical in smart manufacturing facilities, where rapid intervention prevents malfunctions, minimizes maintenance expenses, and ensures production continuity. For example, in sensor-equipped factories monitoring equipment conditions, low AoI facilitates swift anomaly detection and resolution, maintaining operational safety and efficiency. Conversely, elevated AoI signifies reliance on outdated information, potentially causing delayed responses and subsequent complications. Maintaining minimal AoI allows industries to enhance operational efficiency, strengthen safety protocols, and improve overall performance metrics.\n",
        "\n",
        "b) The distinction between Age of Information (AoI)-oriented and deadline-oriented traffic in IIoT networks is fundamental for communication optimization and operational efficiency. AoI-oriented traffic emphasizes data freshness, seeking to minimize the interval between data generation and reception to ensure current information-based decision-making. In smart grid implementations, sensors continuously monitor consumption patterns and transmit updates to central control systems. The objective is maintaining low AoI, enabling real-time adjustments to balance supply and demand dynamics, thus preventing service disruptions or inefficiencies. Conversely, deadline-oriented traffic ensures data packet delivery within specific timeframes to meet critical operational deadlines. In manufacturing contexts, robotic systems must receive instruction sequences within precise windows to synchronize with adjacent machinery. Missing these deadlines potentially disrupts entire production sequences, resulting in significant operational costs. While AoI-oriented traffic prioritizes information recency, deadline-oriented traffic focuses on timely delivery—both crucial for distinct aspects of IIoT operational reliability and efficiency."
      ]
    },
    {
      "cell_type": "markdown",
      "id": "38ef7b74-2a8f-4ed0-bac7-f46f3050ea08",
      "metadata": {
        "id": "38ef7b74-2a8f-4ed0-bac7-f46f3050ea08"
      },
      "source": [
        "###  2. Data Exploration and Visualization"
      ]
    },
    {
      "cell_type": "code",
      "execution_count": null,
      "id": "b72250c1-3d8d-4172-9431-3d2e64226121",
      "metadata": {
        "id": "b72250c1-3d8d-4172-9431-3d2e64226121"
      },
      "outputs": [],
      "source": [
        "import pandas as pd\n",
        "data = pd.read_csv('iiot_network_data.csv')"
      ]
    },
    {
      "cell_type": "code",
      "execution_count": null,
      "id": "34b7a069-6c9d-46e2-9679-27fc57494e34",
      "metadata": {
        "id": "34b7a069-6c9d-46e2-9679-27fc57494e34",
        "outputId": "040c3376-99fd-4b80-8b2f-0f8ed61ec6a4"
      },
      "outputs": [
        {
          "data": {
            "text/html": [
              "<div>\n",
              "<style scoped>\n",
              "    .dataframe tbody tr th:only-of-type {\n",
              "        vertical-align: middle;\n",
              "    }\n",
              "\n",
              "    .dataframe tbody tr th {\n",
              "        vertical-align: top;\n",
              "    }\n",
              "\n",
              "    .dataframe thead th {\n",
              "        text-align: right;\n",
              "    }\n",
              "</style>\n",
              "<table border=\"1\" class=\"dataframe\">\n",
              "  <thead>\n",
              "    <tr style=\"text-align: right;\">\n",
              "      <th></th>\n",
              "      <th>timestamp</th>\n",
              "      <th>node_id</th>\n",
              "      <th>traffic_type</th>\n",
              "      <th>transmission_probability</th>\n",
              "      <th>capture_threshold</th>\n",
              "      <th>num_nodes</th>\n",
              "      <th>channel_quality</th>\n",
              "      <th>age_of_information</th>\n",
              "      <th>packet_loss_probability</th>\n",
              "    </tr>\n",
              "  </thead>\n",
              "  <tbody>\n",
              "    <tr>\n",
              "      <th>0</th>\n",
              "      <td>2024-06-30 17:10:10.430548</td>\n",
              "      <td>61</td>\n",
              "      <td>deadline-oriented</td>\n",
              "      <td>0.9</td>\n",
              "      <td>-0.5</td>\n",
              "      <td>3</td>\n",
              "      <td>0.6</td>\n",
              "      <td>4.760106</td>\n",
              "      <td>0.724432</td>\n",
              "    </tr>\n",
              "    <tr>\n",
              "      <th>1</th>\n",
              "      <td>2024-07-01 03:12:10.430548</td>\n",
              "      <td>55</td>\n",
              "      <td>AoI-oriented</td>\n",
              "      <td>0.4</td>\n",
              "      <td>-2.0</td>\n",
              "      <td>2</td>\n",
              "      <td>0.7</td>\n",
              "      <td>4.068644</td>\n",
              "      <td>0.480900</td>\n",
              "    </tr>\n",
              "    <tr>\n",
              "      <th>2</th>\n",
              "      <td>2024-06-30 17:44:10.430548</td>\n",
              "      <td>63</td>\n",
              "      <td>deadline-oriented</td>\n",
              "      <td>0.3</td>\n",
              "      <td>0.0</td>\n",
              "      <td>4</td>\n",
              "      <td>0.6</td>\n",
              "      <td>19.007878</td>\n",
              "      <td>0.835932</td>\n",
              "    </tr>\n",
              "    <tr>\n",
              "      <th>3</th>\n",
              "      <td>2024-07-01 08:23:10.430548</td>\n",
              "      <td>77</td>\n",
              "      <td>deadline-oriented</td>\n",
              "      <td>0.4</td>\n",
              "      <td>0.0</td>\n",
              "      <td>1</td>\n",
              "      <td>0.3</td>\n",
              "      <td>10.467934</td>\n",
              "      <td>0.730784</td>\n",
              "    </tr>\n",
              "    <tr>\n",
              "      <th>4</th>\n",
              "      <td>2024-06-30 17:05:10.430548</td>\n",
              "      <td>44</td>\n",
              "      <td>deadline-oriented</td>\n",
              "      <td>0.7</td>\n",
              "      <td>0.5</td>\n",
              "      <td>2</td>\n",
              "      <td>0.4</td>\n",
              "      <td>14.010374</td>\n",
              "      <td>0.906584</td>\n",
              "    </tr>\n",
              "  </tbody>\n",
              "</table>\n",
              "</div>"
            ],
            "text/plain": [
              "                    timestamp  node_id       traffic_type  \\\n",
              "0  2024-06-30 17:10:10.430548       61  deadline-oriented   \n",
              "1  2024-07-01 03:12:10.430548       55       AoI-oriented   \n",
              "2  2024-06-30 17:44:10.430548       63  deadline-oriented   \n",
              "3  2024-07-01 08:23:10.430548       77  deadline-oriented   \n",
              "4  2024-06-30 17:05:10.430548       44  deadline-oriented   \n",
              "\n",
              "   transmission_probability  capture_threshold  num_nodes  channel_quality  \\\n",
              "0                       0.9               -0.5          3              0.6   \n",
              "1                       0.4               -2.0          2              0.7   \n",
              "2                       0.3                0.0          4              0.6   \n",
              "3                       0.4                0.0          1              0.3   \n",
              "4                       0.7                0.5          2              0.4   \n",
              "\n",
              "   age_of_information  packet_loss_probability  \n",
              "0            4.760106                 0.724432  \n",
              "1            4.068644                 0.480900  \n",
              "2           19.007878                 0.835932  \n",
              "3           10.467934                 0.730784  \n",
              "4           14.010374                 0.906584  "
            ]
          },
          "execution_count": 6,
          "metadata": {},
          "output_type": "execute_result"
        }
      ],
      "source": [
        "data.head()\n"
      ]
    },
    {
      "cell_type": "code",
      "execution_count": null,
      "id": "790466b8-8d62-463c-8eaa-5bba78090e85",
      "metadata": {
        "id": "790466b8-8d62-463c-8eaa-5bba78090e85",
        "outputId": "9e5022cd-f015-47e2-84a5-021c38b1e952"
      },
      "outputs": [
        {
          "name": "stdout",
          "output_type": "stream",
          "text": [
            "<class 'pandas.core.frame.DataFrame'>\n",
            "RangeIndex: 10000 entries, 0 to 9999\n",
            "Data columns (total 9 columns):\n",
            " #   Column                    Non-Null Count  Dtype  \n",
            "---  ------                    --------------  -----  \n",
            " 0   timestamp                 10000 non-null  object \n",
            " 1   node_id                   10000 non-null  int64  \n",
            " 2   traffic_type              10000 non-null  object \n",
            " 3   transmission_probability  10000 non-null  float64\n",
            " 4   capture_threshold         10000 non-null  float64\n",
            " 5   num_nodes                 10000 non-null  int64  \n",
            " 6   channel_quality           10000 non-null  float64\n",
            " 7   age_of_information        10000 non-null  float64\n",
            " 8   packet_loss_probability   10000 non-null  float64\n",
            "dtypes: float64(5), int64(2), object(2)\n",
            "memory usage: 703.3+ KB\n"
          ]
        }
      ],
      "source": [
        "data.info()"
      ]
    },
    {
      "cell_type": "code",
      "execution_count": null,
      "id": "fdf9efec-0fb8-4e75-9e0b-3204c930739a",
      "metadata": {
        "id": "fdf9efec-0fb8-4e75-9e0b-3204c930739a",
        "outputId": "7926eb62-e2fb-4ea9-cf4c-9fc9d8fbc2d7"
      },
      "outputs": [
        {
          "data": {
            "text/html": [
              "<div>\n",
              "<style scoped>\n",
              "    .dataframe tbody tr th:only-of-type {\n",
              "        vertical-align: middle;\n",
              "    }\n",
              "\n",
              "    .dataframe tbody tr th {\n",
              "        vertical-align: top;\n",
              "    }\n",
              "\n",
              "    .dataframe thead th {\n",
              "        text-align: right;\n",
              "    }\n",
              "</style>\n",
              "<table border=\"1\" class=\"dataframe\">\n",
              "  <thead>\n",
              "    <tr style=\"text-align: right;\">\n",
              "      <th></th>\n",
              "      <th>node_id</th>\n",
              "      <th>transmission_probability</th>\n",
              "      <th>capture_threshold</th>\n",
              "      <th>num_nodes</th>\n",
              "      <th>channel_quality</th>\n",
              "      <th>age_of_information</th>\n",
              "      <th>packet_loss_probability</th>\n",
              "    </tr>\n",
              "  </thead>\n",
              "  <tbody>\n",
              "    <tr>\n",
              "      <th>count</th>\n",
              "      <td>10000.000000</td>\n",
              "      <td>10000.000000</td>\n",
              "      <td>10000.000000</td>\n",
              "      <td>10000.000000</td>\n",
              "      <td>10000.000000</td>\n",
              "      <td>1.000000e+04</td>\n",
              "      <td>10000.000000</td>\n",
              "    </tr>\n",
              "    <tr>\n",
              "      <th>mean</th>\n",
              "      <td>50.638400</td>\n",
              "      <td>0.548460</td>\n",
              "      <td>-0.001800</td>\n",
              "      <td>5.553100</td>\n",
              "      <td>0.499100</td>\n",
              "      <td>inf</td>\n",
              "      <td>0.853774</td>\n",
              "    </tr>\n",
              "    <tr>\n",
              "      <th>std</th>\n",
              "      <td>29.020101</td>\n",
              "      <td>0.288548</td>\n",
              "      <td>1.284664</td>\n",
              "      <td>2.850122</td>\n",
              "      <td>0.317656</td>\n",
              "      <td>NaN</td>\n",
              "      <td>0.184140</td>\n",
              "    </tr>\n",
              "    <tr>\n",
              "      <th>min</th>\n",
              "      <td>1.000000</td>\n",
              "      <td>0.100000</td>\n",
              "      <td>-2.000000</td>\n",
              "      <td>1.000000</td>\n",
              "      <td>0.000000</td>\n",
              "      <td>1.000000e+00</td>\n",
              "      <td>0.000000</td>\n",
              "    </tr>\n",
              "    <tr>\n",
              "      <th>25%</th>\n",
              "      <td>26.000000</td>\n",
              "      <td>0.300000</td>\n",
              "      <td>-1.000000</td>\n",
              "      <td>3.000000</td>\n",
              "      <td>0.200000</td>\n",
              "      <td>1.032026e+01</td>\n",
              "      <td>0.819893</td>\n",
              "    </tr>\n",
              "    <tr>\n",
              "      <th>50%</th>\n",
              "      <td>51.000000</td>\n",
              "      <td>0.500000</td>\n",
              "      <td>0.000000</td>\n",
              "      <td>6.000000</td>\n",
              "      <td>0.500000</td>\n",
              "      <td>2.468121e+01</td>\n",
              "      <td>0.908372</td>\n",
              "    </tr>\n",
              "    <tr>\n",
              "      <th>75%</th>\n",
              "      <td>76.000000</td>\n",
              "      <td>0.800000</td>\n",
              "      <td>1.000000</td>\n",
              "      <td>8.000000</td>\n",
              "      <td>0.800000</td>\n",
              "      <td>9.462189e+01</td>\n",
              "      <td>0.968325</td>\n",
              "    </tr>\n",
              "    <tr>\n",
              "      <th>max</th>\n",
              "      <td>100.000000</td>\n",
              "      <td>1.000000</td>\n",
              "      <td>2.000000</td>\n",
              "      <td>10.000000</td>\n",
              "      <td>1.000000</td>\n",
              "      <td>inf</td>\n",
              "      <td>1.000000</td>\n",
              "    </tr>\n",
              "  </tbody>\n",
              "</table>\n",
              "</div>"
            ],
            "text/plain": [
              "            node_id  transmission_probability  capture_threshold  \\\n",
              "count  10000.000000              10000.000000       10000.000000   \n",
              "mean      50.638400                  0.548460          -0.001800   \n",
              "std       29.020101                  0.288548           1.284664   \n",
              "min        1.000000                  0.100000          -2.000000   \n",
              "25%       26.000000                  0.300000          -1.000000   \n",
              "50%       51.000000                  0.500000           0.000000   \n",
              "75%       76.000000                  0.800000           1.000000   \n",
              "max      100.000000                  1.000000           2.000000   \n",
              "\n",
              "          num_nodes  channel_quality  age_of_information  \\\n",
              "count  10000.000000     10000.000000        1.000000e+04   \n",
              "mean       5.553100         0.499100                 inf   \n",
              "std        2.850122         0.317656                 NaN   \n",
              "min        1.000000         0.000000        1.000000e+00   \n",
              "25%        3.000000         0.200000        1.032026e+01   \n",
              "50%        6.000000         0.500000        2.468121e+01   \n",
              "75%        8.000000         0.800000        9.462189e+01   \n",
              "max       10.000000         1.000000                 inf   \n",
              "\n",
              "       packet_loss_probability  \n",
              "count             10000.000000  \n",
              "mean                  0.853774  \n",
              "std                   0.184140  \n",
              "min                   0.000000  \n",
              "25%                   0.819893  \n",
              "50%                   0.908372  \n",
              "75%                   0.968325  \n",
              "max                   1.000000  "
            ]
          },
          "execution_count": 8,
          "metadata": {},
          "output_type": "execute_result"
        }
      ],
      "source": [
        "data.describe()"
      ]
    },
    {
      "cell_type": "code",
      "execution_count": null,
      "id": "f0335e31-6a07-4bb8-9174-cedf982a997d",
      "metadata": {
        "id": "f0335e31-6a07-4bb8-9174-cedf982a997d"
      },
      "outputs": [],
      "source": [
        "import seaborn as sns\n",
        "import matplotlib.pyplot as plt"
      ]
    },
    {
      "cell_type": "code",
      "execution_count": null,
      "id": "352ed808-5c9d-4965-b8ae-816ef3ee4a5c",
      "metadata": {
        "id": "352ed808-5c9d-4965-b8ae-816ef3ee4a5c"
      },
      "outputs": [],
      "source": [
        "numeric_data = data.select_dtypes(include=['float64', 'int64'])"
      ]
    },
    {
      "cell_type": "code",
      "execution_count": null,
      "id": "479b743d-9970-4f67-80ec-9c1f837a267a",
      "metadata": {
        "id": "479b743d-9970-4f67-80ec-9c1f837a267a",
        "outputId": "837b535f-9ebd-4ef7-8a0b-e637a0c3ebcd"
      },
      "outputs": [
        {
          "data": {
            "image/png": "[encoded data removed]",
            "text/plain": [
              "<Figure size 640x480 with 2 Axes>"
            ]
          },
          "metadata": {},
          "output_type": "display_data"
        }
      ],
      "source": [
        "sns.heatmap(numeric_data.corr(), annot=True)\n",
        "plt.show()"
      ]
    },
    {
      "cell_type": "markdown",
      "id": "954421f4-692f-413d-a4ec-66758b98c891",
      "metadata": {
        "id": "954421f4-692f-413d-a4ec-66758b98c891"
      },
      "source": [
        "### 3. Machine Learning Model Development"
      ]
    },
    {
      "cell_type": "code",
      "execution_count": null,
      "id": "a55ed180-81cd-4020-b43c-2b449a50dbc2",
      "metadata": {
        "id": "a55ed180-81cd-4020-b43c-2b449a50dbc2"
      },
      "outputs": [],
      "source": [
        "features = ['transmission_probability', 'traffic_type']\n",
        "X = data[features]\n",
        "\n",
        "X = X.copy()\n"
      ]
    },
    {
      "cell_type": "code",
      "execution_count": null,
      "id": "70178645-016c-4169-ae3d-0115409477f1",
      "metadata": {
        "id": "70178645-016c-4169-ae3d-0115409477f1"
      },
      "outputs": [],
      "source": [
        "from sklearn.preprocessing import LabelEncoder\n",
        "\n",
        "label_encoder = LabelEncoder()\n",
        "X['traffic_type'] = label_encoder.fit_transform(X['traffic_type'].astype(str))"
      ]
    },
    {
      "cell_type": "code",
      "execution_count": null,
      "id": "4fedd863-eb98-476a-bd4e-b1c09500c673",
      "metadata": {
        "id": "4fedd863-eb98-476a-bd4e-b1c09500c673"
      },
      "outputs": [],
      "source": [
        "features = ['transmission_probability', 'traffic_type']\n",
        "target = 'age_of_information'\n",
        "\n",
        "# Select features (X) and target (y)\n",
        "X = data[features]\n",
        "y = data[target]"
      ]
    },
    {
      "cell_type": "code",
      "execution_count": null,
      "id": "4c3853f0-5f65-4cb4-a189-14733f4c55fc",
      "metadata": {
        "id": "4c3853f0-5f65-4cb4-a189-14733f4c55fc"
      },
      "outputs": [],
      "source": [
        "from sklearn.model_selection import train_test_split\n",
        "\n",
        "# Split into training and testing sets (80% training, 20% testing)\n",
        "X_train, X_test, y_train, y_test = train_test_split(X, y, test_size=0.2, random_state=42)\n"
      ]
    },
    {
      "cell_type": "code",
      "execution_count": null,
      "id": "e611d898-cf5c-4dc8-b084-3300ee38b726",
      "metadata": {
        "id": "e611d898-cf5c-4dc8-b084-3300ee38b726",
        "outputId": "d28cc075-21d4-46dd-8381-d9c4829a3120"
      },
      "outputs": [
        {
          "data": {
            "text/html": [
              "<div>\n",
              "<style scoped>\n",
              "    .dataframe tbody tr th:only-of-type {\n",
              "        vertical-align: middle;\n",
              "    }\n",
              "\n",
              "    .dataframe tbody tr th {\n",
              "        vertical-align: top;\n",
              "    }\n",
              "\n",
              "    .dataframe thead th {\n",
              "        text-align: right;\n",
              "    }\n",
              "</style>\n",
              "<table border=\"1\" class=\"dataframe\">\n",
              "  <thead>\n",
              "    <tr style=\"text-align: right;\">\n",
              "      <th></th>\n",
              "      <th>transmission_probability</th>\n",
              "      <th>traffic_type</th>\n",
              "    </tr>\n",
              "  </thead>\n",
              "  <tbody>\n",
              "    <tr>\n",
              "      <th>0</th>\n",
              "      <td>0.9</td>\n",
              "      <td>deadline-oriented</td>\n",
              "    </tr>\n",
              "    <tr>\n",
              "      <th>1</th>\n",
              "      <td>0.4</td>\n",
              "      <td>AoI-oriented</td>\n",
              "    </tr>\n",
              "    <tr>\n",
              "      <th>2</th>\n",
              "      <td>0.3</td>\n",
              "      <td>deadline-oriented</td>\n",
              "    </tr>\n",
              "    <tr>\n",
              "      <th>3</th>\n",
              "      <td>0.4</td>\n",
              "      <td>deadline-oriented</td>\n",
              "    </tr>\n",
              "    <tr>\n",
              "      <th>4</th>\n",
              "      <td>0.7</td>\n",
              "      <td>deadline-oriented</td>\n",
              "    </tr>\n",
              "  </tbody>\n",
              "</table>\n",
              "</div>"
            ],
            "text/plain": [
              "   transmission_probability       traffic_type\n",
              "0                       0.9  deadline-oriented\n",
              "1                       0.4       AoI-oriented\n",
              "2                       0.3  deadline-oriented\n",
              "3                       0.4  deadline-oriented\n",
              "4                       0.7  deadline-oriented"
            ]
          },
          "execution_count": 17,
          "metadata": {},
          "output_type": "execute_result"
        }
      ],
      "source": [
        "(X.head())"
      ]
    },
    {
      "cell_type": "code",
      "execution_count": null,
      "id": "cf6503a7-d7ae-4ea5-b51b-c49232c3b28a",
      "metadata": {
        "id": "cf6503a7-d7ae-4ea5-b51b-c49232c3b28a",
        "outputId": "714a8499-8b44-4b08-f6f1-c00c9c8600c0"
      },
      "outputs": [
        {
          "data": {
            "text/plain": [
              "0     4.760106\n",
              "1     4.068644\n",
              "2    19.007878\n",
              "3    10.467934\n",
              "4    14.010374\n",
              "Name: age_of_information, dtype: float64"
            ]
          },
          "execution_count": 18,
          "metadata": {},
          "output_type": "execute_result"
        }
      ],
      "source": [
        "(y.head())"
      ]
    },
    {
      "cell_type": "code",
      "execution_count": null,
      "id": "9e75b598-2978-4339-90ac-3958025ed9b3",
      "metadata": {
        "id": "9e75b598-2978-4339-90ac-3958025ed9b3",
        "outputId": "aca62553-8ef0-4f0d-ba41-4c13cf561e59"
      },
      "outputs": [
        {
          "data": {
            "text/html": [
              "<div>\n",
              "<style scoped>\n",
              "    .dataframe tbody tr th:only-of-type {\n",
              "        vertical-align: middle;\n",
              "    }\n",
              "\n",
              "    .dataframe tbody tr th {\n",
              "        vertical-align: top;\n",
              "    }\n",
              "\n",
              "    .dataframe thead th {\n",
              "        text-align: right;\n",
              "    }\n",
              "</style>\n",
              "<table border=\"1\" class=\"dataframe\">\n",
              "  <thead>\n",
              "    <tr style=\"text-align: right;\">\n",
              "      <th></th>\n",
              "      <th>transmission_probability</th>\n",
              "      <th>traffic_type</th>\n",
              "    </tr>\n",
              "  </thead>\n",
              "  <tbody>\n",
              "    <tr>\n",
              "      <th>9254</th>\n",
              "      <td>0.6</td>\n",
              "      <td>AoI-oriented</td>\n",
              "    </tr>\n",
              "    <tr>\n",
              "      <th>1561</th>\n",
              "      <td>0.7</td>\n",
              "      <td>AoI-oriented</td>\n",
              "    </tr>\n",
              "    <tr>\n",
              "      <th>1670</th>\n",
              "      <td>0.6</td>\n",
              "      <td>AoI-oriented</td>\n",
              "    </tr>\n",
              "    <tr>\n",
              "      <th>6087</th>\n",
              "      <td>0.2</td>\n",
              "      <td>deadline-oriented</td>\n",
              "    </tr>\n",
              "    <tr>\n",
              "      <th>6669</th>\n",
              "      <td>0.7</td>\n",
              "      <td>AoI-oriented</td>\n",
              "    </tr>\n",
              "  </tbody>\n",
              "</table>\n",
              "</div>"
            ],
            "text/plain": [
              "      transmission_probability       traffic_type\n",
              "9254                       0.6       AoI-oriented\n",
              "1561                       0.7       AoI-oriented\n",
              "1670                       0.6       AoI-oriented\n",
              "6087                       0.2  deadline-oriented\n",
              "6669                       0.7       AoI-oriented"
            ]
          },
          "execution_count": 19,
          "metadata": {},
          "output_type": "execute_result"
        }
      ],
      "source": [
        "(X_train[:5])"
      ]
    },
    {
      "cell_type": "code",
      "execution_count": null,
      "id": "467b5e33-aa4f-48b6-bf65-47a78a9b05d6",
      "metadata": {
        "id": "467b5e33-aa4f-48b6-bf65-47a78a9b05d6"
      },
      "outputs": [],
      "source": [
        "X.loc[:, 'traffic_type'] = label_encoder.fit_transform(X['traffic_type']).astype(int)"
      ]
    },
    {
      "cell_type": "code",
      "execution_count": null,
      "id": "11b991f1-b1fd-4795-8208-6e4429ecc388",
      "metadata": {
        "id": "11b991f1-b1fd-4795-8208-6e4429ecc388"
      },
      "outputs": [],
      "source": [
        "X = X.copy()\n",
        "X['traffic_type'] = label_encoder.fit_transform(X['traffic_type']).astype(int)"
      ]
    },
    {
      "cell_type": "code",
      "execution_count": null,
      "id": "b639f674-ddf9-4afc-a5e4-0ab13bd5b1a7",
      "metadata": {
        "id": "b639f674-ddf9-4afc-a5e4-0ab13bd5b1a7",
        "outputId": "979a8c62-3763-4780-b589-f35b872671ae"
      },
      "outputs": [
        {
          "data": {
            "text/plain": [
              "transmission_probability    float64\n",
              "traffic_type                  int32\n",
              "dtype: object"
            ]
          },
          "execution_count": 22,
          "metadata": {},
          "output_type": "execute_result"
        }
      ],
      "source": [
        "(X.dtypes)"
      ]
    },
    {
      "cell_type": "code",
      "execution_count": null,
      "id": "d4336277-6516-4ad0-ba79-35421a70a009",
      "metadata": {
        "id": "d4336277-6516-4ad0-ba79-35421a70a009",
        "outputId": "51b5de6a-1d88-4ce4-c229-264d0ac05a5b"
      },
      "outputs": [
        {
          "data": {
            "text/plain": [
              "0"
            ]
          },
          "execution_count": 23,
          "metadata": {},
          "output_type": "execute_result"
        }
      ],
      "source": [
        "import numpy as np\n",
        "\n",
        "(np.isinf(y).sum())\n",
        "\n",
        "(np.isnan(y).sum())\n"
      ]
    },
    {
      "cell_type": "code",
      "execution_count": null,
      "id": "d7a5584d-d069-45d1-ba19-f8febf7e1b95",
      "metadata": {
        "id": "d7a5584d-d069-45d1-ba19-f8febf7e1b95",
        "outputId": "db2015c4-3060-44e2-b791-f0a6220aff9c"
      },
      "outputs": [
        {
          "data": {
            "text/html": [
              "<div>\n",
              "<style scoped>\n",
              "    .dataframe tbody tr th:only-of-type {\n",
              "        vertical-align: middle;\n",
              "    }\n",
              "\n",
              "    .dataframe tbody tr th {\n",
              "        vertical-align: top;\n",
              "    }\n",
              "\n",
              "    .dataframe thead th {\n",
              "        text-align: right;\n",
              "    }\n",
              "</style>\n",
              "<table border=\"1\" class=\"dataframe\">\n",
              "  <thead>\n",
              "    <tr style=\"text-align: right;\">\n",
              "      <th></th>\n",
              "      <th>transmission_probability</th>\n",
              "      <th>traffic_type</th>\n",
              "    </tr>\n",
              "  </thead>\n",
              "  <tbody>\n",
              "    <tr>\n",
              "      <th>9254</th>\n",
              "      <td>0.6</td>\n",
              "      <td>AoI-oriented</td>\n",
              "    </tr>\n",
              "    <tr>\n",
              "      <th>1561</th>\n",
              "      <td>0.7</td>\n",
              "      <td>AoI-oriented</td>\n",
              "    </tr>\n",
              "    <tr>\n",
              "      <th>1670</th>\n",
              "      <td>0.6</td>\n",
              "      <td>AoI-oriented</td>\n",
              "    </tr>\n",
              "    <tr>\n",
              "      <th>6087</th>\n",
              "      <td>0.2</td>\n",
              "      <td>deadline-oriented</td>\n",
              "    </tr>\n",
              "    <tr>\n",
              "      <th>6669</th>\n",
              "      <td>0.7</td>\n",
              "      <td>AoI-oriented</td>\n",
              "    </tr>\n",
              "  </tbody>\n",
              "</table>\n",
              "</div>"
            ],
            "text/plain": [
              "      transmission_probability       traffic_type\n",
              "9254                       0.6       AoI-oriented\n",
              "1561                       0.7       AoI-oriented\n",
              "1670                       0.6       AoI-oriented\n",
              "6087                       0.2  deadline-oriented\n",
              "6669                       0.7       AoI-oriented"
            ]
          },
          "execution_count": 24,
          "metadata": {},
          "output_type": "execute_result"
        }
      ],
      "source": [
        "(X_train.dtypes)\n",
        "(X_train.head())"
      ]
    },
    {
      "cell_type": "code",
      "execution_count": null,
      "id": "b799a824-4dcb-4ab2-b7cd-b3c8953f1f05",
      "metadata": {
        "id": "b799a824-4dcb-4ab2-b7cd-b3c8953f1f05"
      },
      "outputs": [],
      "source": [
        "from sklearn.preprocessing import LabelEncoder\n",
        "\n",
        "# Apply LabelEncoder to traffic_type column\n",
        "label_encoder = LabelEncoder()\n",
        "X_train['traffic_type'] = label_encoder.fit_transform(X_train['traffic_type'].astype(str))\n",
        "X_test['traffic_type'] = label_encoder.transform(X_test['traffic_type'].astype(str))\n"
      ]
    },
    {
      "cell_type": "code",
      "execution_count": null,
      "id": "d8321b78-3705-46c9-8910-93186f160ee7",
      "metadata": {
        "id": "d8321b78-3705-46c9-8910-93186f160ee7"
      },
      "outputs": [],
      "source": [
        "y_train = y_train.replace([np.inf, -np.inf], np.nan).dropna()"
      ]
    },
    {
      "cell_type": "code",
      "execution_count": null,
      "id": "1aff6678-c4b9-4b67-b815-94572b15ef5f",
      "metadata": {
        "id": "1aff6678-c4b9-4b67-b815-94572b15ef5f",
        "outputId": "20e6cbc9-2864-41d3-9a93-b0258af7f9a0"
      },
      "outputs": [
        {
          "data": {
            "text/plain": [
              "'y_train shape: (6891,)'"
            ]
          },
          "execution_count": 27,
          "metadata": {},
          "output_type": "execute_result"
        }
      ],
      "source": [
        "(f\"X_train shape: {X_train.shape}\")\n",
        "(f\"y_train shape: {y_train.shape}\")"
      ]
    },
    {
      "cell_type": "code",
      "execution_count": null,
      "id": "605879a2-d8a2-4502-8fd7-694b75722336",
      "metadata": {
        "id": "605879a2-d8a2-4502-8fd7-694b75722336",
        "outputId": "ecc69f59-c6c7-45b1-8cb4-0533802aa9ab"
      },
      "outputs": [
        {
          "data": {
            "text/plain": [
              "Index([9254, 1561, 1670, 6087, 6669, 5933, 3508, 5866,  168, 2588,\n",
              "       ...\n",
              "        769, 1685, 8322, 5578,  466, 6265, 5734, 5191, 5390, 7270],\n",
              "      dtype='int64', length=6891)"
            ]
          },
          "execution_count": 28,
          "metadata": {},
          "output_type": "execute_result"
        }
      ],
      "source": [
        "(X_train.index)\n",
        "(y_train.index)"
      ]
    },
    {
      "cell_type": "code",
      "execution_count": null,
      "id": "53400e5a-acc5-47c1-891d-424dd16d2d35",
      "metadata": {
        "id": "53400e5a-acc5-47c1-891d-424dd16d2d35"
      },
      "outputs": [],
      "source": [
        "common_indices = X_train.index.intersection(y_train.index)\n",
        "X_train = X_train.loc[common_indices]\n",
        "y_train = y_train.loc[common_indices]"
      ]
    },
    {
      "cell_type": "code",
      "execution_count": null,
      "id": "3d969f58-3184-4a94-a636-112498144136",
      "metadata": {
        "id": "3d969f58-3184-4a94-a636-112498144136"
      },
      "outputs": [],
      "source": [
        "from sklearn.ensemble import RandomForestRegressor\n",
        "\n",
        "rf_model = RandomForestRegressor(random_state=42)\n"
      ]
    },
    {
      "cell_type": "code",
      "execution_count": null,
      "id": "fa552a46-289e-4351-b213-f856650f1ffe",
      "metadata": {
        "id": "fa552a46-289e-4351-b213-f856650f1ffe",
        "outputId": "513793d6-4de1-4725-acf8-8c9a70d14d3b"
      },
      "outputs": [
        {
          "data": {
            "text/html": [
              "<style>#sk-container-id-1 {\n",
              "  /* Definition of color scheme common for light and dark mode */\n",
              "  --sklearn-color-text: black;\n",
              "  --sklearn-color-line: gray;\n",
              "  /* Definition of color scheme for unfitted estimators */\n",
              "  --sklearn-color-unfitted-level-0: #fff5e6;\n",
              "  --sklearn-color-unfitted-level-1: #f6e4d2;\n",
              "  --sklearn-color-unfitted-level-2: #ffe0b3;\n",
              "  --sklearn-color-unfitted-level-3: chocolate;\n",
              "  /* Definition of color scheme for fitted estimators */\n",
              "  --sklearn-color-fitted-level-0: #f0f8ff;\n",
              "  --sklearn-color-fitted-level-1: #d4ebff;\n",
              "  --sklearn-color-fitted-level-2: #b3dbfd;\n",
              "  --sklearn-color-fitted-level-3: cornflowerblue;\n",
              "\n",
              "  /* Specific color for light theme */\n",
              "  --sklearn-color-text-on-default-background: var(--sg-text-color, var(--theme-code-foreground, var(--jp-content-font-color1, black)));\n",
              "  --sklearn-color-background: var(--sg-background-color, var(--theme-background, var(--jp-layout-color0, white)));\n",
              "  --sklearn-color-border-box: var(--sg-text-color, var(--theme-code-foreground, var(--jp-content-font-color1, black)));\n",
              "  --sklearn-color-icon: #696969;\n",
              "\n",
              "  @media (prefers-color-scheme: dark) {\n",
              "    /* Redefinition of color scheme for dark theme */\n",
              "    --sklearn-color-text-on-default-background: var(--sg-text-color, var(--theme-code-foreground, var(--jp-content-font-color1, white)));\n",
              "    --sklearn-color-background: var(--sg-background-color, var(--theme-background, var(--jp-layout-color0, #111)));\n",
              "    --sklearn-color-border-box: var(--sg-text-color, var(--theme-code-foreground, var(--jp-content-font-color1, white)));\n",
              "    --sklearn-color-icon: #878787;\n",
              "  }\n",
              "}\n",
              "\n",
              "#sk-container-id-1 {\n",
              "  color: var(--sklearn-color-text);\n",
              "}\n",
              "\n",
              "#sk-container-id-1 pre {\n",
              "  padding: 0;\n",
              "}\n",
              "\n",
              "#sk-container-id-1 input.sk-hidden--visually {\n",
              "  border: 0;\n",
              "  clip: rect(1px 1px 1px 1px);\n",
              "  clip: rect(1px, 1px, 1px, 1px);\n",
              "  height: 1px;\n",
              "  margin: -1px;\n",
              "  overflow: hidden;\n",
              "  padding: 0;\n",
              "  position: absolute;\n",
              "  width: 1px;\n",
              "}\n",
              "\n",
              "#sk-container-id-1 div.sk-dashed-wrapped {\n",
              "  border: 1px dashed var(--sklearn-color-line);\n",
              "  margin: 0 0.4em 0.5em 0.4em;\n",
              "  box-sizing: border-box;\n",
              "  padding-bottom: 0.4em;\n",
              "  background-color: var(--sklearn-color-background);\n",
              "}\n",
              "\n",
              "#sk-container-id-1 div.sk-container {\n",
              "  /* jupyter's `normalize.less` sets `[hidden] { display: none; }`\n",
              "     but bootstrap.min.css set `[hidden] { display: none !important; }`\n",
              "     so we also need the `!important` here to be able to override the\n",
              "     default hidden behavior on the sphinx rendered scikit-learn.org.\n",
              "     See: https://github.com/scikit-learn/scikit-learn/issues/21755 */\n",
              "  display: inline-block !important;\n",
              "  position: relative;\n",
              "}\n",
              "\n",
              "#sk-container-id-1 div.sk-text-repr-fallback {\n",
              "  display: none;\n",
              "}\n",
              "\n",
              "div.sk-parallel-item,\n",
              "div.sk-serial,\n",
              "div.sk-item {\n",
              "  /* draw centered vertical line to link estimators */\n",
              "  background-image: linear-gradient(var(--sklearn-color-text-on-default-background), var(--sklearn-color-text-on-default-background));\n",
              "  background-size: 2px 100%;\n",
              "  background-repeat: no-repeat;\n",
              "  background-position: center center;\n",
              "}\n",
              "\n",
              "/* Parallel-specific style estimator block */\n",
              "\n",
              "#sk-container-id-1 div.sk-parallel-item::after {\n",
              "  content: \"\";\n",
              "  width: 100%;\n",
              "  border-bottom: 2px solid var(--sklearn-color-text-on-default-background);\n",
              "  flex-grow: 1;\n",
              "}\n",
              "\n",
              "#sk-container-id-1 div.sk-parallel {\n",
              "  display: flex;\n",
              "  align-items: stretch;\n",
              "  justify-content: center;\n",
              "  background-color: var(--sklearn-color-background);\n",
              "  position: relative;\n",
              "}\n",
              "\n",
              "#sk-container-id-1 div.sk-parallel-item {\n",
              "  display: flex;\n",
              "  flex-direction: column;\n",
              "}\n",
              "\n",
              "#sk-container-id-1 div.sk-parallel-item:first-child::after {\n",
              "  align-self: flex-end;\n",
              "  width: 50%;\n",
              "}\n",
              "\n",
              "#sk-container-id-1 div.sk-parallel-item:last-child::after {\n",
              "  align-self: flex-start;\n",
              "  width: 50%;\n",
              "}\n",
              "\n",
              "#sk-container-id-1 div.sk-parallel-item:only-child::after {\n",
              "  width: 0;\n",
              "}\n",
              "\n",
              "/* Serial-specific style estimator block */\n",
              "\n",
              "#sk-container-id-1 div.sk-serial {\n",
              "  display: flex;\n",
              "  flex-direction: column;\n",
              "  align-items: center;\n",
              "  background-color: var(--sklearn-color-background);\n",
              "  padding-right: 1em;\n",
              "  padding-left: 1em;\n",
              "}\n",
              "\n",
              "\n",
              "/* Toggleable style: style used for estimator/Pipeline/ColumnTransformer box that is\n",
              "clickable and can be expanded/collapsed.\n",
              "- Pipeline and ColumnTransformer use this feature and define the default style\n",
              "- Estimators will overwrite some part of the style using the `sk-estimator` class\n",
              "*/\n",
              "\n",
              "/* Pipeline and ColumnTransformer style (default) */\n",
              "\n",
              "#sk-container-id-1 div.sk-toggleable {\n",
              "  /* Default theme specific background. It is overwritten whether we have a\n",
              "  specific estimator or a Pipeline/ColumnTransformer */\n",
              "  background-color: var(--sklearn-color-background);\n",
              "}\n",
              "\n",
              "/* Toggleable label */\n",
              "#sk-container-id-1 label.sk-toggleable__label {\n",
              "  cursor: pointer;\n",
              "  display: block;\n",
              "  width: 100%;\n",
              "  margin-bottom: 0;\n",
              "  padding: 0.5em;\n",
              "  box-sizing: border-box;\n",
              "  text-align: center;\n",
              "}\n",
              "\n",
              "#sk-container-id-1 label.sk-toggleable__label-arrow:before {\n",
              "  /* Arrow on the left of the label */\n",
              "  content: \"▸\";\n",
              "  float: left;\n",
              "  margin-right: 0.25em;\n",
              "  color: var(--sklearn-color-icon);\n",
              "}\n",
              "\n",
              "#sk-container-id-1 label.sk-toggleable__label-arrow:hover:before {\n",
              "  color: var(--sklearn-color-text);\n",
              "}\n",
              "\n",
              "/* Toggleable content - dropdown */\n",
              "\n",
              "#sk-container-id-1 div.sk-toggleable__content {\n",
              "  max-height: 0;\n",
              "  max-width: 0;\n",
              "  overflow: hidden;\n",
              "  text-align: left;\n",
              "  /* unfitted */\n",
              "  background-color: var(--sklearn-color-unfitted-level-0);\n",
              "}\n",
              "\n",
              "#sk-container-id-1 div.sk-toggleable__content.fitted {\n",
              "  /* fitted */\n",
              "  background-color: var(--sklearn-color-fitted-level-0);\n",
              "}\n",
              "\n",
              "#sk-container-id-1 div.sk-toggleable__content pre {\n",
              "  margin: 0.2em;\n",
              "  border-radius: 0.25em;\n",
              "  color: var(--sklearn-color-text);\n",
              "  /* unfitted */\n",
              "  background-color: var(--sklearn-color-unfitted-level-0);\n",
              "}\n",
              "\n",
              "#sk-container-id-1 div.sk-toggleable__content.fitted pre {\n",
              "  /* unfitted */\n",
              "  background-color: var(--sklearn-color-fitted-level-0);\n",
              "}\n",
              "\n",
              "#sk-container-id-1 input.sk-toggleable__control:checked~div.sk-toggleable__content {\n",
              "  /* Expand drop-down */\n",
              "  max-height: 200px;\n",
              "  max-width: 100%;\n",
              "  overflow: auto;\n",
              "}\n",
              "\n",
              "#sk-container-id-1 input.sk-toggleable__control:checked~label.sk-toggleable__label-arrow:before {\n",
              "  content: \"▾\";\n",
              "}\n",
              "\n",
              "/* Pipeline/ColumnTransformer-specific style */\n",
              "\n",
              "#sk-container-id-1 div.sk-label input.sk-toggleable__control:checked~label.sk-toggleable__label {\n",
              "  color: var(--sklearn-color-text);\n",
              "  background-color: var(--sklearn-color-unfitted-level-2);\n",
              "}\n",
              "\n",
              "#sk-container-id-1 div.sk-label.fitted input.sk-toggleable__control:checked~label.sk-toggleable__label {\n",
              "  background-color: var(--sklearn-color-fitted-level-2);\n",
              "}\n",
              "\n",
              "/* Estimator-specific style */\n",
              "\n",
              "/* Colorize estimator box */\n",
              "#sk-container-id-1 div.sk-estimator input.sk-toggleable__control:checked~label.sk-toggleable__label {\n",
              "  /* unfitted */\n",
              "  background-color: var(--sklearn-color-unfitted-level-2);\n",
              "}\n",
              "\n",
              "#sk-container-id-1 div.sk-estimator.fitted input.sk-toggleable__control:checked~label.sk-toggleable__label {\n",
              "  /* fitted */\n",
              "  background-color: var(--sklearn-color-fitted-level-2);\n",
              "}\n",
              "\n",
              "#sk-container-id-1 div.sk-label label.sk-toggleable__label,\n",
              "#sk-container-id-1 div.sk-label label {\n",
              "  /* The background is the default theme color */\n",
              "  color: var(--sklearn-color-text-on-default-background);\n",
              "}\n",
              "\n",
              "/* On hover, darken the color of the background */\n",
              "#sk-container-id-1 div.sk-label:hover label.sk-toggleable__label {\n",
              "  color: var(--sklearn-color-text);\n",
              "  background-color: var(--sklearn-color-unfitted-level-2);\n",
              "}\n",
              "\n",
              "/* Label box, darken color on hover, fitted */\n",
              "#sk-container-id-1 div.sk-label.fitted:hover label.sk-toggleable__label.fitted {\n",
              "  color: var(--sklearn-color-text);\n",
              "  background-color: var(--sklearn-color-fitted-level-2);\n",
              "}\n",
              "\n",
              "/* Estimator label */\n",
              "\n",
              "#sk-container-id-1 div.sk-label label {\n",
              "  font-family: monospace;\n",
              "  font-weight: bold;\n",
              "  display: inline-block;\n",
              "  line-height: 1.2em;\n",
              "}\n",
              "\n",
              "#sk-container-id-1 div.sk-label-container {\n",
              "  text-align: center;\n",
              "}\n",
              "\n",
              "/* Estimator-specific */\n",
              "#sk-container-id-1 div.sk-estimator {\n",
              "  font-family: monospace;\n",
              "  border: 1px dotted var(--sklearn-color-border-box);\n",
              "  border-radius: 0.25em;\n",
              "  box-sizing: border-box;\n",
              "  margin-bottom: 0.5em;\n",
              "  /* unfitted */\n",
              "  background-color: var(--sklearn-color-unfitted-level-0);\n",
              "}\n",
              "\n",
              "#sk-container-id-1 div.sk-estimator.fitted {\n",
              "  /* fitted */\n",
              "  background-color: var(--sklearn-color-fitted-level-0);\n",
              "}\n",
              "\n",
              "/* on hover */\n",
              "#sk-container-id-1 div.sk-estimator:hover {\n",
              "  /* unfitted */\n",
              "  background-color: var(--sklearn-color-unfitted-level-2);\n",
              "}\n",
              "\n",
              "#sk-container-id-1 div.sk-estimator.fitted:hover {\n",
              "  /* fitted */\n",
              "  background-color: var(--sklearn-color-fitted-level-2);\n",
              "}\n",
              "\n",
              "/* Specification for estimator info (e.g. \"i\" and \"?\") */\n",
              "\n",
              "/* Common style for \"i\" and \"?\" */\n",
              "\n",
              ".sk-estimator-doc-link,\n",
              "a:link.sk-estimator-doc-link,\n",
              "a:visited.sk-estimator-doc-link {\n",
              "  float: right;\n",
              "  font-size: smaller;\n",
              "  line-height: 1em;\n",
              "  font-family: monospace;\n",
              "  background-color: var(--sklearn-color-background);\n",
              "  border-radius: 1em;\n",
              "  height: 1em;\n",
              "  width: 1em;\n",
              "  text-decoration: none !important;\n",
              "  margin-left: 1ex;\n",
              "  /* unfitted */\n",
              "  border: var(--sklearn-color-unfitted-level-1) 1pt solid;\n",
              "  color: var(--sklearn-color-unfitted-level-1);\n",
              "}\n",
              "\n",
              ".sk-estimator-doc-link.fitted,\n",
              "a:link.sk-estimator-doc-link.fitted,\n",
              "a:visited.sk-estimator-doc-link.fitted {\n",
              "  /* fitted */\n",
              "  border: var(--sklearn-color-fitted-level-1) 1pt solid;\n",
              "  color: var(--sklearn-color-fitted-level-1);\n",
              "}\n",
              "\n",
              "/* On hover */\n",
              "div.sk-estimator:hover .sk-estimator-doc-link:hover,\n",
              ".sk-estimator-doc-link:hover,\n",
              "div.sk-label-container:hover .sk-estimator-doc-link:hover,\n",
              ".sk-estimator-doc-link:hover {\n",
              "  /* unfitted */\n",
              "  background-color: var(--sklearn-color-unfitted-level-3);\n",
              "  color: var(--sklearn-color-background);\n",
              "  text-decoration: none;\n",
              "}\n",
              "\n",
              "div.sk-estimator.fitted:hover .sk-estimator-doc-link.fitted:hover,\n",
              ".sk-estimator-doc-link.fitted:hover,\n",
              "div.sk-label-container:hover .sk-estimator-doc-link.fitted:hover,\n",
              ".sk-estimator-doc-link.fitted:hover {\n",
              "  /* fitted */\n",
              "  background-color: var(--sklearn-color-fitted-level-3);\n",
              "  color: var(--sklearn-color-background);\n",
              "  text-decoration: none;\n",
              "}\n",
              "\n",
              "/* Span, style for the box shown on hovering the info icon */\n",
              ".sk-estimator-doc-link span {\n",
              "  display: none;\n",
              "  z-index: 9999;\n",
              "  position: relative;\n",
              "  font-weight: normal;\n",
              "  right: .2ex;\n",
              "  padding: .5ex;\n",
              "  margin: .5ex;\n",
              "  width: min-content;\n",
              "  min-width: 20ex;\n",
              "  max-width: 50ex;\n",
              "  color: var(--sklearn-color-text);\n",
              "  box-shadow: 2pt 2pt 4pt #999;\n",
              "  /* unfitted */\n",
              "  background: var(--sklearn-color-unfitted-level-0);\n",
              "  border: .5pt solid var(--sklearn-color-unfitted-level-3);\n",
              "}\n",
              "\n",
              ".sk-estimator-doc-link.fitted span {\n",
              "  /* fitted */\n",
              "  background: var(--sklearn-color-fitted-level-0);\n",
              "  border: var(--sklearn-color-fitted-level-3);\n",
              "}\n",
              "\n",
              ".sk-estimator-doc-link:hover span {\n",
              "  display: block;\n",
              "}\n",
              "\n",
              "/* \"?\"-specific style due to the `<a>` HTML tag */\n",
              "\n",
              "#sk-container-id-1 a.estimator_doc_link {\n",
              "  float: right;\n",
              "  font-size: 1rem;\n",
              "  line-height: 1em;\n",
              "  font-family: monospace;\n",
              "  background-color: var(--sklearn-color-background);\n",
              "  border-radius: 1rem;\n",
              "  height: 1rem;\n",
              "  width: 1rem;\n",
              "  text-decoration: none;\n",
              "  /* unfitted */\n",
              "  color: var(--sklearn-color-unfitted-level-1);\n",
              "  border: var(--sklearn-color-unfitted-level-1) 1pt solid;\n",
              "}\n",
              "\n",
              "#sk-container-id-1 a.estimator_doc_link.fitted {\n",
              "  /* fitted */\n",
              "  border: var(--sklearn-color-fitted-level-1) 1pt solid;\n",
              "  color: var(--sklearn-color-fitted-level-1);\n",
              "}\n",
              "\n",
              "/* On hover */\n",
              "#sk-container-id-1 a.estimator_doc_link:hover {\n",
              "  /* unfitted */\n",
              "  background-color: var(--sklearn-color-unfitted-level-3);\n",
              "  color: var(--sklearn-color-background);\n",
              "  text-decoration: none;\n",
              "}\n",
              "\n",
              "#sk-container-id-1 a.estimator_doc_link.fitted:hover {\n",
              "  /* fitted */\n",
              "  background-color: var(--sklearn-color-fitted-level-3);\n",
              "}\n",
              "</style><div id=\"sk-container-id-1\" class=\"sk-top-container\"><div class=\"sk-text-repr-fallback\"><pre>RandomForestRegressor(random_state=42)</pre><b>In a Jupyter environment, please rerun this cell to show the HTML representation or trust the notebook. <br />On GitHub, the HTML representation is unable to render, please try loading this page with nbviewer.org.</b></div><div class=\"sk-container\" hidden><div class=\"sk-item\"><div class=\"sk-estimator fitted sk-toggleable\"><input class=\"sk-toggleable__control sk-hidden--visually\" id=\"sk-estimator-id-1\" type=\"checkbox\" checked><label for=\"sk-estimator-id-1\" class=\"sk-toggleable__label fitted sk-toggleable__label-arrow fitted\">&nbsp;&nbsp;RandomForestRegressor<a class=\"sk-estimator-doc-link fitted\" rel=\"noreferrer\" target=\"_blank\" href=\"https://scikit-learn.org/1.5/modules/generated/sklearn.ensemble.RandomForestRegressor.html\">?<span>Documentation for RandomForestRegressor</span></a><span class=\"sk-estimator-doc-link fitted\">i<span>Fitted</span></span></label><div class=\"sk-toggleable__content fitted\"><pre>RandomForestRegressor(random_state=42)</pre></div> </div></div></div></div>"
            ],
            "text/plain": [
              "RandomForestRegressor(random_state=42)"
            ]
          },
          "execution_count": 31,
          "metadata": {},
          "output_type": "execute_result"
        }
      ],
      "source": [
        "rf_model.fit(X_train, y_train)"
      ]
    },
    {
      "cell_type": "code",
      "execution_count": null,
      "id": "1140d595-ee88-4879-9889-d0482b945b6e",
      "metadata": {
        "id": "1140d595-ee88-4879-9889-d0482b945b6e",
        "outputId": "2c1c407a-6189-4e73-d3a8-2d5ea6c490f8"
      },
      "outputs": [
        {
          "data": {
            "text/plain": [
              "array([145.91009973,  23.52253831, 137.68509585, ..., 122.63090822,\n",
              "        23.52253831,  74.20526221])"
            ]
          },
          "execution_count": 32,
          "metadata": {},
          "output_type": "execute_result"
        }
      ],
      "source": [
        "y_pred = rf_model.predict(X_test)\n",
        "(y_pred)"
      ]
    },
    {
      "cell_type": "code",
      "execution_count": null,
      "id": "ef16c7a1-b91b-4c77-bcad-1f5af70219e3",
      "metadata": {
        "id": "ef16c7a1-b91b-4c77-bcad-1f5af70219e3",
        "outputId": "6baffe69-00ee-471d-d78f-c774857cb1b1"
      },
      "outputs": [
        {
          "name": "stdout",
          "output_type": "stream",
          "text": [
            "NaN in y_test: 0\n",
            "NaN in y_pred: 0\n",
            "Infinity in y_test: 288\n",
            "Infinity in y_pred: 0\n"
          ]
        }
      ],
      "source": [
        "print(\"NaN in y_test:\", np.isnan(y_test).sum())\n",
        "print(\"NaN in y_pred:\", np.isnan(y_pred).sum())\n",
        "\n",
        "\n",
        "print(\"Infinity in y_test:\", np.isinf(y_test).sum())\n",
        "print(\"Infinity in y_pred:\", np.isinf(y_pred).sum())\n"
      ]
    },
    {
      "cell_type": "code",
      "execution_count": null,
      "id": "6318327d-2e4a-493f-89e7-d29f7ae6c870",
      "metadata": {
        "id": "6318327d-2e4a-493f-89e7-d29f7ae6c870"
      },
      "outputs": [],
      "source": [
        "y_test = np.where(np.isinf(y_test), np.nan, y_test)\n",
        "y_pred = np.where(np.isinf(y_pred), np.nan, y_pred)\n",
        "\n",
        "y_test = np.where(np.isnan(y_test), np.nanmedian(y_test), y_test)\n",
        "y_pred = np.where(np.isnan(y_pred), np.nanmedian(y_pred), y_pred)\n"
      ]
    },
    {
      "cell_type": "code",
      "execution_count": null,
      "id": "057b888a-e70b-42e3-b722-aeaa80e89ea8",
      "metadata": {
        "id": "057b888a-e70b-42e3-b722-aeaa80e89ea8",
        "outputId": "f00a7f4a-477e-4044-f76f-656d585b020b"
      },
      "outputs": [
        {
          "name": "stdout",
          "output_type": "stream",
          "text": [
            "NaN in y_test: 0\n",
            "Infinity in y_test: 0\n"
          ]
        }
      ],
      "source": [
        "print(\"NaN in y_test:\", np.isnan(y_test).sum())\n",
        "print(\"Infinity in y_test:\", np.isinf(y_test).sum())"
      ]
    },
    {
      "cell_type": "code",
      "execution_count": null,
      "id": "206a5cf3-24e1-4e86-b810-ca8bb7a5e71a",
      "metadata": {
        "id": "206a5cf3-24e1-4e86-b810-ca8bb7a5e71a",
        "outputId": "ce313929-dbff-4fcf-c015-1443d197fc67"
      },
      "outputs": [
        {
          "name": "stdout",
          "output_type": "stream",
          "text": [
            "Mean Squared Error (MSE): 874761.330610166\n",
            "R-squared Score: -0.005780007907794982\n"
          ]
        }
      ],
      "source": [
        "from sklearn.metrics import mean_squared_error, r2_score\n",
        "\n",
        "mse = mean_squared_error(y_test, y_pred)\n",
        "r2 = r2_score(y_test, y_pred)\n",
        "\n",
        "print(f\"Mean Squared Error (MSE): {mse}\")\n",
        "print(f\"R-squared Score: {r2}\")\n"
      ]
    },
    {
      "cell_type": "markdown",
      "id": "15ac5509-7673-46e7-a76a-1dede8a2d0e3",
      "metadata": {
        "id": "15ac5509-7673-46e7-a76a-1dede8a2d0e3"
      },
      "source": [
        "### c) Analyze the model's performance:\n",
        "\n",
        "MSE and R-squared Score\n",
        "Mean Squared Error (MSE): 874761.33\n",
        "\n",
        "R-squared Score: -0.00578\n",
        "\n",
        "### Interpretation:\n",
        "\n",
        "A high MSE suggests that the model's predictions deviate significantly from the actual values.\n",
        "\n",
        "The R-squared score is negative, indicating that the model is performing worse than a simple mean predictor. This suggests that the model may not have captured meaningful relationships between the features and the target variable (AoI).\n"
      ]
    },
    {
      "cell_type": "code",
      "execution_count": null,
      "id": "44c17dce-aff2-4404-b2d7-8a7bbf161d05",
      "metadata": {
        "id": "44c17dce-aff2-4404-b2d7-8a7bbf161d05",
        "outputId": "00013dd2-147f-4f07-a2ea-a4120490df10"
      },
      "outputs": [
        {
          "name": "stdout",
          "output_type": "stream",
          "text": [
            "transmission_probability: 0.8631435088581206\n",
            "traffic_type: 0.13685649114187928\n"
          ]
        }
      ],
      "source": [
        "# Feature Importances\n",
        "\n",
        "importances = rf_model.feature_importances_\n",
        "feature_names = X_train.columns\n",
        "sorted_indices = importances.argsort()[::-1]\n",
        "for idx in sorted_indices:\n",
        "    print(f\"{feature_names[idx]}: {importances[idx]}\")\n"
      ]
    },
    {
      "cell_type": "markdown",
      "id": "eecfb759-23e3-4833-9d1a-3642a2ef4ea5",
      "metadata": {
        "id": "eecfb759-23e3-4833-9d1a-3642a2ef4ea5"
      },
      "source": [
        "#### d) Predictions for Hypothetical Network Configurations\n",
        "New Configurations and Predictions\n",
        "Hypothetical configurations for making predictions:\n",
        "\n",
        "Config 1: transmission_probability=0.8, traffic_type='AoI-oriented'\n",
        "\n",
        "Config 2: transmission_probability=0.3, traffic_type='deadline-oriented'\n",
        "\n",
        "Config 3: transmission_probability=0.5, traffic_type='AoI-oriented'"
      ]
    },
    {
      "cell_type": "code",
      "execution_count": null,
      "id": "df76c800-5ad7-4880-9fd9-6474834023cb",
      "metadata": {
        "id": "df76c800-5ad7-4880-9fd9-6474834023cb",
        "outputId": "14d96e42-f39d-40d6-be98-f30e1da70054"
      },
      "outputs": [
        {
          "name": "stdout",
          "output_type": "stream",
          "text": [
            "[ 49.49713395 106.13377215 103.22654508]\n"
          ]
        }
      ],
      "source": [
        "new_data = pd.DataFrame({\n",
        "    'transmission_probability': [0.8, 0.3, 0.5],\n",
        "    'traffic_type': label_encoder.transform(['AoI-oriented', 'deadline-oriented', 'AoI-oriented'])\n",
        "})\n",
        "\n",
        "predictions = rf_model.predict(new_data)\n",
        "print(predictions)\n"
      ]
    },
    {
      "cell_type": "markdown",
      "id": "95bd0881-42df-4a5e-a352-8a8de6f1b638",
      "metadata": {
        "id": "95bd0881-42df-4a5e-a352-8a8de6f1b638"
      },
      "source": [
        "### Interpretation:\n",
        "\n",
        "Config 1 is expected to yield a lower AoI due to high transmission probability and AoI-oriented traffic.\n",
        "\n",
        "Config 2 might result in higher AoI because of low transmission probability and deadline-oriented traffic.\n",
        "\n",
        "Config 3 should give a balanced AoI, reflecting average settings."
      ]
    },
    {
      "cell_type": "markdown",
      "id": "0afedb75-28f2-4412-94b5-c5accd4ef76b",
      "metadata": {
        "id": "0afedb75-28f2-4412-94b5-c5accd4ef76b"
      },
      "source": [
        "### Analysis and Insights\n",
        "a) Key Factors Affecting AoI-PLP Trade-off\n",
        "Transmission chances? Higher odds mean fresher data but might drop more packets. I mean, you can't have everything, right?\n",
        "Traffic priorities - some data needs to be super fresh, other stuff just needs to arrive by a deadline. It's like choosing between getting breaking news immediately or making sure you don't miss your flight.\n",
        "Signal quality matters - better connection means both fresher updates AND more reliable delivery. No surprise there!\n",
        "\n",
        "b) Making Networks Work Better\n",
        "Smart sending adjustments - networks should change how aggressive they are based on conditions. Like knowing when to push through a crowd versus when to wait your turn.\n",
        "Balancing act approach - mixing time-sensitive and deadline-focused data in one system. Kind of like juggling both urgent emails and scheduled meetings without dropping either ball.\n",
        "\n",
        "c) Where This Actually Matters\n",
        "Power grid stuff - keeps energy flowing by reducing delays in monitoring usage and balancing supply. No one wants their lights flickering!\n",
        "Factory automation - machines talking to each other on time. Imagine if your assembly line robots were all on different schedules - total chaos!"
      ]
    },
    {
      "cell_type": "code",
      "execution_count": null,
      "id": "0ee0d449-5f74-4fc4-928d-38ad804b613f",
      "metadata": {
        "id": "0ee0d449-5f74-4fc4-928d-38ad804b613f"
      },
      "outputs": [],
      "source": []
    }
  ],
  "metadata": {
    "kernelspec": {
      "display_name": "Python [conda env:base] *",
      "language": "python",
      "name": "conda-base-py"
    },
    "language_info": {
      "codemirror_mode": {
        "name": "ipython",
        "version": 3
      },
      "file_extension": ".py",
      "mimetype": "text/x-python",
      "name": "python",
      "nbconvert_exporter": "python",
      "pygments_lexer": "ipython3",
      "version": "3.12.7"
    },
    "colab": {
      "provenance": []
    }
  },
  "nbformat": 4,
  "nbformat_minor": 5
}